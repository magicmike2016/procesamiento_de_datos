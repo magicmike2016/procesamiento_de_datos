{
 "cells": [
  {
   "cell_type": "markdown",
   "id": "1fd3894b-9742-445b-a299-4d21b92a355d",
   "metadata": {},
   "source": [
    "# Escalado\n",
    "Conjunto de datos: iris (incluido en sklearn)\n",
    "Este conjunto de datos es compacto y perfecto para demostrar técnicas de escalado."
   ]
  },
  {
   "cell_type": "code",
   "execution_count": 6,
   "id": "5ad2bfdc-2b65-4205-8a50-09331ac07dfd",
   "metadata": {},
   "outputs": [],
   "source": [
    "# Importar librerías necesarias\n",
    "from sklearn.datasets import load_iris\n",
    "from sklearn.preprocessing import MinMaxScaler, StandardScaler\n",
    "import pandas as pd\n",
    "import matplotlib.pyplot as plt"
   ]
  },
  {
   "cell_type": "code",
   "execution_count": 7,
   "id": "3043f401-40c2-4d7e-a0b2-9962c5a30909",
   "metadata": {},
   "outputs": [],
   "source": [
    "# Cargar el conjunto de datos\n",
    "iris = load_iris(as_frame=True)\n",
    "data = iris.data"
   ]
  },
  {
   "cell_type": "code",
   "execution_count": 8,
   "id": "c785a731-0e1e-4817-9368-7b8ff252e9cd",
   "metadata": {},
   "outputs": [
    {
     "name": "stdout",
     "output_type": "stream",
     "text": [
      "Estadísticas iniciales:\n"
     ]
    },
    {
     "data": {
      "text/html": [
       "<div>\n",
       "<style scoped>\n",
       "    .dataframe tbody tr th:only-of-type {\n",
       "        vertical-align: middle;\n",
       "    }\n",
       "\n",
       "    .dataframe tbody tr th {\n",
       "        vertical-align: top;\n",
       "    }\n",
       "\n",
       "    .dataframe thead th {\n",
       "        text-align: right;\n",
       "    }\n",
       "</style>\n",
       "<table border=\"1\" class=\"dataframe\">\n",
       "  <thead>\n",
       "    <tr style=\"text-align: right;\">\n",
       "      <th></th>\n",
       "      <th>sepal length (cm)</th>\n",
       "      <th>sepal width (cm)</th>\n",
       "      <th>petal length (cm)</th>\n",
       "      <th>petal width (cm)</th>\n",
       "    </tr>\n",
       "  </thead>\n",
       "  <tbody>\n",
       "    <tr>\n",
       "      <th>count</th>\n",
       "      <td>150.000000</td>\n",
       "      <td>150.000000</td>\n",
       "      <td>150.000000</td>\n",
       "      <td>150.000000</td>\n",
       "    </tr>\n",
       "    <tr>\n",
       "      <th>mean</th>\n",
       "      <td>5.843333</td>\n",
       "      <td>3.057333</td>\n",
       "      <td>3.758000</td>\n",
       "      <td>1.199333</td>\n",
       "    </tr>\n",
       "    <tr>\n",
       "      <th>std</th>\n",
       "      <td>0.828066</td>\n",
       "      <td>0.435866</td>\n",
       "      <td>1.765298</td>\n",
       "      <td>0.762238</td>\n",
       "    </tr>\n",
       "    <tr>\n",
       "      <th>min</th>\n",
       "      <td>4.300000</td>\n",
       "      <td>2.000000</td>\n",
       "      <td>1.000000</td>\n",
       "      <td>0.100000</td>\n",
       "    </tr>\n",
       "    <tr>\n",
       "      <th>25%</th>\n",
       "      <td>5.100000</td>\n",
       "      <td>2.800000</td>\n",
       "      <td>1.600000</td>\n",
       "      <td>0.300000</td>\n",
       "    </tr>\n",
       "    <tr>\n",
       "      <th>50%</th>\n",
       "      <td>5.800000</td>\n",
       "      <td>3.000000</td>\n",
       "      <td>4.350000</td>\n",
       "      <td>1.300000</td>\n",
       "    </tr>\n",
       "    <tr>\n",
       "      <th>75%</th>\n",
       "      <td>6.400000</td>\n",
       "      <td>3.300000</td>\n",
       "      <td>5.100000</td>\n",
       "      <td>1.800000</td>\n",
       "    </tr>\n",
       "    <tr>\n",
       "      <th>max</th>\n",
       "      <td>7.900000</td>\n",
       "      <td>4.400000</td>\n",
       "      <td>6.900000</td>\n",
       "      <td>2.500000</td>\n",
       "    </tr>\n",
       "  </tbody>\n",
       "</table>\n",
       "</div>"
      ],
      "text/plain": [
       "       sepal length (cm)  sepal width (cm)  petal length (cm)  \\\n",
       "count         150.000000        150.000000         150.000000   \n",
       "mean            5.843333          3.057333           3.758000   \n",
       "std             0.828066          0.435866           1.765298   \n",
       "min             4.300000          2.000000           1.000000   \n",
       "25%             5.100000          2.800000           1.600000   \n",
       "50%             5.800000          3.000000           4.350000   \n",
       "75%             6.400000          3.300000           5.100000   \n",
       "max             7.900000          4.400000           6.900000   \n",
       "\n",
       "       petal width (cm)  \n",
       "count        150.000000  \n",
       "mean           1.199333  \n",
       "std            0.762238  \n",
       "min            0.100000  \n",
       "25%            0.300000  \n",
       "50%            1.300000  \n",
       "75%            1.800000  \n",
       "max            2.500000  "
      ]
     },
     "execution_count": 8,
     "metadata": {},
     "output_type": "execute_result"
    }
   ],
   "source": [
    "# Visualizar las estadísticas iniciales\n",
    "print(\"Estadísticas iniciales:\")\n",
    "data.describe()"
   ]
  },
  {
   "cell_type": "code",
   "execution_count": 9,
   "id": "be448627-66e4-4114-8050-d447fbe2912b",
   "metadata": {},
   "outputs": [],
   "source": [
    "# Aplicar MinMaxScaler\n",
    "minmax_scaler = MinMaxScaler()\n",
    "data_minmax = pd.DataFrame(minmax_scaler.fit_transform(data), columns=data.columns)"
   ]
  },
  {
   "cell_type": "code",
   "execution_count": 10,
   "id": "ec3f0bfc-21e6-401e-9f56-8f07a7432eb8",
   "metadata": {},
   "outputs": [],
   "source": [
    "# Aplicar StandardScaler\n",
    "standard_scaler = StandardScaler()\n",
    "data_standard = pd.DataFrame(standard_scaler.fit_transform(data), columns=data.columns)"
   ]
  },
  {
   "cell_type": "markdown",
   "id": "6a8a99ba-d7e2-4fec-ac6e-d25feeb40a13",
   "metadata": {},
   "source": [
    "# Ejercicios\n",
    "Contesta las siguientes preguntas. Para cada pregunta, deberás escribir código que demostrará cómo llegaste al resultado. Crea gráficas en donde veas correcto."
   ]
  },
  {
   "cell_type": "markdown",
   "id": "1d2d6b00-76f2-4640-9c9e-ad17e8426134",
   "metadata": {},
   "source": [
    "### 1. ¿Qué diferencias encuentras entre las estadísticas originales y las del escalado MinMax?\n"
   ]
  },
  {
   "cell_type": "code",
   "execution_count": 11,
   "id": "d85339cd-4d35-4afa-9ad5-d6fd699b2f04",
   "metadata": {},
   "outputs": [
    {
     "name": "stdout",
     "output_type": "stream",
     "text": [
      "Original:\n",
      "        sepal length (cm)  sepal width (cm)  petal length (cm)  \\\n",
      "count         150.000000        150.000000         150.000000   \n",
      "mean            5.843333          3.057333           3.758000   \n",
      "std             0.828066          0.435866           1.765298   \n",
      "min             4.300000          2.000000           1.000000   \n",
      "25%             5.100000          2.800000           1.600000   \n",
      "50%             5.800000          3.000000           4.350000   \n",
      "75%             6.400000          3.300000           5.100000   \n",
      "max             7.900000          4.400000           6.900000   \n",
      "\n",
      "       petal width (cm)  \n",
      "count        150.000000  \n",
      "mean           1.199333  \n",
      "std            0.762238  \n",
      "min            0.100000  \n",
      "25%            0.300000  \n",
      "50%            1.300000  \n",
      "75%            1.800000  \n",
      "max            2.500000  \n",
      "MinMax:\n",
      "        sepal length (cm)  sepal width (cm)  petal length (cm)  \\\n",
      "count         150.000000        150.000000         150.000000   \n",
      "mean            0.428704          0.440556           0.467458   \n",
      "std             0.230018          0.181611           0.299203   \n",
      "min             0.000000          0.000000           0.000000   \n",
      "25%             0.222222          0.333333           0.101695   \n",
      "50%             0.416667          0.416667           0.567797   \n",
      "75%             0.583333          0.541667           0.694915   \n",
      "max             1.000000          1.000000           1.000000   \n",
      "\n",
      "       petal width (cm)  \n",
      "count        150.000000  \n",
      "mean           0.458056  \n",
      "std            0.317599  \n",
      "min            0.000000  \n",
      "25%            0.083333  \n",
      "50%            0.500000  \n",
      "75%            0.708333  \n",
      "max            1.000000  \n",
      "Standard:\n",
      "        sepal length (cm)  sepal width (cm)  petal length (cm)  \\\n",
      "count       1.500000e+02      1.500000e+02       1.500000e+02   \n",
      "mean       -4.736952e-16     -7.815970e-16      -4.263256e-16   \n",
      "std         1.003350e+00      1.003350e+00       1.003350e+00   \n",
      "min        -1.870024e+00     -2.433947e+00      -1.567576e+00   \n",
      "25%        -9.006812e-01     -5.923730e-01      -1.226552e+00   \n",
      "50%        -5.250608e-02     -1.319795e-01       3.364776e-01   \n",
      "75%         6.745011e-01      5.586108e-01       7.627583e-01   \n",
      "max         2.492019e+00      3.090775e+00       1.785832e+00   \n",
      "\n",
      "       petal width (cm)  \n",
      "count      1.500000e+02  \n",
      "mean      -4.736952e-16  \n",
      "std        1.003350e+00  \n",
      "min       -1.447076e+00  \n",
      "25%       -1.183812e+00  \n",
      "50%        1.325097e-01  \n",
      "75%        7.906707e-01  \n",
      "max        1.712096e+00  \n"
     ]
    }
   ],
   "source": [
    "print('Original:\\n', data.describe())\n",
    "print('MinMax:\\n', data_minmax.describe())\n",
    "print('Standard:\\n', data_standard.describe())"
   ]
  },
  {
   "cell_type": "markdown",
   "id": "13b39499-181d-4543-b2f8-2c1ae05bc820",
   "metadata": {},
   "source": [
    "### 2. Crea una gráfica de la distribución de la variable 'sepal length (cm)' antes y después del escalado."
   ]
  },
  {
   "cell_type": "code",
   "execution_count": 13,
   "id": "ae4ee901-481b-439c-a3ea-46000b8f36ae",
   "metadata": {},
   "outputs": [
    {
     "data": {
      "image/png": "[encoded data removed]",
      "text/plain": [
       "<Figure size 640x480 with 1 Axes>"
      ]
     },
     "metadata": {},
     "output_type": "display_data"
    }
   ],
   "source": [
    "plt.hist(data['sepal length (cm)'], alpha=0.5, label='Original')\n",
    "plt.hist(data_standard['sepal length (cm)'], alpha=0.5, label='Escalado')\n",
    "plt.legend()\n",
    "plt.title('Distribución de \"sepal length (cm))\" antes y despues del escalado')\n",
    "plt.show()"
   ]
  },
  {
   "cell_type": "markdown",
   "id": "5378fb1b-8695-4ac9-b488-44779b0b8319",
   "metadata": {},
   "source": [
    "### 3. Crea una gráfica de dispersión entre 'sepal length (cm)' y 'sepal width (cm)' con los datos escalados por StandardScaler."
   ]
  },
  {
   "cell_type": "code",
   "execution_count": 14,
   "id": "916c1164-6646-4269-9f03-301391ed7f49",
   "metadata": {},
   "outputs": [
    {
     "data": {
      "image/png": "[encoded data removed]",
      "text/plain": [
       "<Figure size 640x480 with 1 Axes>"
      ]
     },
     "metadata": {},
     "output_type": "display_data"
    }
   ],
   "source": [
    "plt.scatter(data_standard['sepal length (cm)'], data_standard['sepal width (cm)'])\n",
    "plt.xlabel('Sepal Length (cm)')\n",
    "plt.ylabel('Sepal Width (cm)')\n",
    "plt.title('Dispersion despues de escalar con StandarScaler')\n",
    "plt.show()"
   ]
  },
  {
   "cell_type": "markdown",
   "id": "01cb8c48-b136-4e56-9bcb-11ca2a0ad0fb",
   "metadata": {},
   "source": [
    "### 4. ¿Qué técnica de escalado crees que es más adecuada para este conjunto de datos? ¿Por qué?"
   ]
  },
  {
   "cell_type": "code",
   "execution_count": 15,
   "id": "bb1e3e64-9442-4e2a-842e-7aa6a8bf9551",
   "metadata": {},
   "outputs": [],
   "source": [
    "#Dependera del modelo a utlizar  MIN MAx va mejor para redes neuronales o KNN mientras que standar va mejor modelos que suponen normalidad como regresion lineal o PCA,\n",
    "#en este caso como no tenemos outliners es mas recomendable MINMAX"
   ]
  }
 ],
 "metadata": {
  "kernelspec": {
   "display_name": "venv",
   "language": "python",
   "name": "python3"
  },
  "language_info": {
   "codemirror_mode": {
    "name": "ipython",
    "version": 3
   },
   "file_extension": ".py",
   "mimetype": "text/x-python",
   "name": "python",
   "nbconvert_exporter": "python",
   "pygments_lexer": "ipython3",
   "version": "3.13.5"
  }
 },
 "nbformat": 4,
 "nbformat_minor": 5
}
