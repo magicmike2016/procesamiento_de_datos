{
 "cells": [
  {
   "cell_type": "markdown",
   "id": "fb44f8fb-17b1-4ad6-8829-d66c86b98c4b",
   "metadata": {},
   "source": [
    "# Datos Faltantes"
   ]
  },
  {
   "cell_type": "code",
   "execution_count": 1,
   "id": "01148085-3966-4035-a659-582d0e20bb3c",
   "metadata": {},
   "outputs": [],
   "source": [
    "# Importar librerías necesarias\n",
    "import pandas as pd\n",
    "import numpy as np\n",
    "from sklearn.datasets import load_diabetes\n",
    "from sklearn.impute import SimpleImputer, KNNImputer\n",
    "import matplotlib.pyplot as plt\n",
    "import seaborn as sns"
   ]
  },
  {
   "cell_type": "code",
   "execution_count": 2,
   "id": "de071a79-ce2b-4444-85e8-a5f62a391a23",
   "metadata": {},
   "outputs": [],
   "source": [
    "# Cargar el conjunto de datos\n",
    "diabetes = load_diabetes(as_frame=True)\n",
    "data = diabetes.data\n",
    "data['target'] = diabetes.target"
   ]
  },
  {
   "cell_type": "code",
   "execution_count": 3,
   "id": "869fa768-bc98-4d81-ae5b-2ab6b9b3c80b",
   "metadata": {},
   "outputs": [
    {
     "data": {
      "text/html": [
       "<div>\n",
       "<style scoped>\n",
       "    .dataframe tbody tr th:only-of-type {\n",
       "        vertical-align: middle;\n",
       "    }\n",
       "\n",
       "    .dataframe tbody tr th {\n",
       "        vertical-align: top;\n",
       "    }\n",
       "\n",
       "    .dataframe thead th {\n",
       "        text-align: right;\n",
       "    }\n",
       "</style>\n",
       "<table border=\"1\" class=\"dataframe\">\n",
       "  <thead>\n",
       "    <tr style=\"text-align: right;\">\n",
       "      <th></th>\n",
       "      <th>age</th>\n",
       "      <th>sex</th>\n",
       "      <th>bmi</th>\n",
       "      <th>bp</th>\n",
       "      <th>s1</th>\n",
       "      <th>s2</th>\n",
       "      <th>s3</th>\n",
       "      <th>s4</th>\n",
       "      <th>s5</th>\n",
       "      <th>s6</th>\n",
       "      <th>target</th>\n",
       "    </tr>\n",
       "  </thead>\n",
       "  <tbody>\n",
       "    <tr>\n",
       "      <th>323</th>\n",
       "      <td>0.070769</td>\n",
       "      <td>0.050680</td>\n",
       "      <td>-0.007284</td>\n",
       "      <td>0.049415</td>\n",
       "      <td>0.060349</td>\n",
       "      <td>-0.004445</td>\n",
       "      <td>-0.054446</td>\n",
       "      <td>0.108111</td>\n",
       "      <td>0.129021</td>\n",
       "      <td>0.056912</td>\n",
       "      <td>248.0</td>\n",
       "    </tr>\n",
       "    <tr>\n",
       "      <th>342</th>\n",
       "      <td>0.056239</td>\n",
       "      <td>0.050680</td>\n",
       "      <td>0.021817</td>\n",
       "      <td>0.056301</td>\n",
       "      <td>-0.007073</td>\n",
       "      <td>0.018101</td>\n",
       "      <td>-0.032356</td>\n",
       "      <td>-0.002592</td>\n",
       "      <td>-0.023647</td>\n",
       "      <td>0.023775</td>\n",
       "      <td>178.0</td>\n",
       "    </tr>\n",
       "    <tr>\n",
       "      <th>131</th>\n",
       "      <td>-0.096328</td>\n",
       "      <td>-0.044642</td>\n",
       "      <td>-0.069797</td>\n",
       "      <td>-0.067642</td>\n",
       "      <td>-0.019456</td>\n",
       "      <td>-0.010708</td>\n",
       "      <td>0.015505</td>\n",
       "      <td>-0.039493</td>\n",
       "      <td>-0.046883</td>\n",
       "      <td>-0.079778</td>\n",
       "      <td>158.0</td>\n",
       "    </tr>\n",
       "    <tr>\n",
       "      <th>155</th>\n",
       "      <td>-0.027310</td>\n",
       "      <td>0.050680</td>\n",
       "      <td>0.060618</td>\n",
       "      <td>0.049415</td>\n",
       "      <td>0.085116</td>\n",
       "      <td>0.086368</td>\n",
       "      <td>-0.002903</td>\n",
       "      <td>0.034309</td>\n",
       "      <td>0.037811</td>\n",
       "      <td>0.048628</td>\n",
       "      <td>186.0</td>\n",
       "    </tr>\n",
       "    <tr>\n",
       "      <th>54</th>\n",
       "      <td>-0.049105</td>\n",
       "      <td>-0.044642</td>\n",
       "      <td>0.025051</td>\n",
       "      <td>0.008101</td>\n",
       "      <td>0.020446</td>\n",
       "      <td>0.017788</td>\n",
       "      <td>0.052322</td>\n",
       "      <td>-0.039493</td>\n",
       "      <td>-0.041176</td>\n",
       "      <td>0.007207</td>\n",
       "      <td>182.0</td>\n",
       "    </tr>\n",
       "    <tr>\n",
       "      <th>390</th>\n",
       "      <td>0.009016</td>\n",
       "      <td>0.050680</td>\n",
       "      <td>0.069241</td>\n",
       "      <td>0.059744</td>\n",
       "      <td>0.017694</td>\n",
       "      <td>-0.023234</td>\n",
       "      <td>-0.047082</td>\n",
       "      <td>0.034309</td>\n",
       "      <td>0.103297</td>\n",
       "      <td>0.073480</td>\n",
       "      <td>277.0</td>\n",
       "    </tr>\n",
       "    <tr>\n",
       "      <th>363</th>\n",
       "      <td>-0.049105</td>\n",
       "      <td>0.050680</td>\n",
       "      <td>-0.024529</td>\n",
       "      <td>0.000079</td>\n",
       "      <td>-0.046975</td>\n",
       "      <td>-0.028245</td>\n",
       "      <td>-0.065491</td>\n",
       "      <td>0.028405</td>\n",
       "      <td>0.019196</td>\n",
       "      <td>0.011349</td>\n",
       "      <td>58.0</td>\n",
       "    </tr>\n",
       "    <tr>\n",
       "      <th>0</th>\n",
       "      <td>0.038076</td>\n",
       "      <td>0.050680</td>\n",
       "      <td>0.061696</td>\n",
       "      <td>0.021872</td>\n",
       "      <td>-0.044223</td>\n",
       "      <td>-0.034821</td>\n",
       "      <td>-0.043401</td>\n",
       "      <td>-0.002592</td>\n",
       "      <td>0.019907</td>\n",
       "      <td>-0.017646</td>\n",
       "      <td>151.0</td>\n",
       "    </tr>\n",
       "    <tr>\n",
       "      <th>176</th>\n",
       "      <td>0.045341</td>\n",
       "      <td>0.050680</td>\n",
       "      <td>0.019662</td>\n",
       "      <td>0.039087</td>\n",
       "      <td>0.020446</td>\n",
       "      <td>0.025930</td>\n",
       "      <td>0.008142</td>\n",
       "      <td>-0.002592</td>\n",
       "      <td>-0.003301</td>\n",
       "      <td>0.019633</td>\n",
       "      <td>237.0</td>\n",
       "    </tr>\n",
       "    <tr>\n",
       "      <th>41</th>\n",
       "      <td>-0.099961</td>\n",
       "      <td>-0.044642</td>\n",
       "      <td>-0.067641</td>\n",
       "      <td>-0.108956</td>\n",
       "      <td>-0.074494</td>\n",
       "      <td>-0.072712</td>\n",
       "      <td>0.015505</td>\n",
       "      <td>-0.039493</td>\n",
       "      <td>-0.049872</td>\n",
       "      <td>-0.009362</td>\n",
       "      <td>55.0</td>\n",
       "    </tr>\n",
       "  </tbody>\n",
       "</table>\n",
       "</div>"
      ],
      "text/plain": [
       "          age       sex       bmi        bp        s1        s2        s3  \\\n",
       "323  0.070769  0.050680 -0.007284  0.049415  0.060349 -0.004445 -0.054446   \n",
       "342  0.056239  0.050680  0.021817  0.056301 -0.007073  0.018101 -0.032356   \n",
       "131 -0.096328 -0.044642 -0.069797 -0.067642 -0.019456 -0.010708  0.015505   \n",
       "155 -0.027310  0.050680  0.060618  0.049415  0.085116  0.086368 -0.002903   \n",
       "54  -0.049105 -0.044642  0.025051  0.008101  0.020446  0.017788  0.052322   \n",
       "390  0.009016  0.050680  0.069241  0.059744  0.017694 -0.023234 -0.047082   \n",
       "363 -0.049105  0.050680 -0.024529  0.000079 -0.046975 -0.028245 -0.065491   \n",
       "0    0.038076  0.050680  0.061696  0.021872 -0.044223 -0.034821 -0.043401   \n",
       "176  0.045341  0.050680  0.019662  0.039087  0.020446  0.025930  0.008142   \n",
       "41  -0.099961 -0.044642 -0.067641 -0.108956 -0.074494 -0.072712  0.015505   \n",
       "\n",
       "           s4        s5        s6  target  \n",
       "323  0.108111  0.129021  0.056912   248.0  \n",
       "342 -0.002592 -0.023647  0.023775   178.0  \n",
       "131 -0.039493 -0.046883 -0.079778   158.0  \n",
       "155  0.034309  0.037811  0.048628   186.0  \n",
       "54  -0.039493 -0.041176  0.007207   182.0  \n",
       "390  0.034309  0.103297  0.073480   277.0  \n",
       "363  0.028405  0.019196  0.011349    58.0  \n",
       "0   -0.002592  0.019907 -0.017646   151.0  \n",
       "176 -0.002592 -0.003301  0.019633   237.0  \n",
       "41  -0.039493 -0.049872 -0.009362    55.0  "
      ]
     },
     "execution_count": 3,
     "metadata": {},
     "output_type": "execute_result"
    }
   ],
   "source": [
    "data.sample(10)"
   ]
  },
  {
   "cell_type": "code",
   "execution_count": 4,
   "id": "42ce3a53-c8d5-4f1b-b94b-22f207199269",
   "metadata": {},
   "outputs": [],
   "source": [
    "# Simular valores faltantes\n",
    "np.random.seed(42)\n",
    "data.loc[data.sample(frac=0.1).index, 'bmi'] = np.nan\n",
    "data.loc[data.sample(frac=0.1).index, 'bp'] = np.nan"
   ]
  },
  {
   "cell_type": "markdown",
   "id": "e5636cb1-845e-4fa5-8f34-2449fe01faa9",
   "metadata": {},
   "source": [
    "# Ejercicios\n",
    "Contesta las siguientes preguntas. Para cada pregunta, deberás escribir código que demostrará cómo llegaste al resultado:"
   ]
  },
  {
   "cell_type": "markdown",
   "id": "0a01b889-f67d-44ba-a104-d4bf1bda5288",
   "metadata": {},
   "source": [
    "### 1. ¿Cuántos valores faltantes hay en cada columna?**"
   ]
  },
  {
   "cell_type": "markdown",
   "id": "586bbc57",
   "metadata": {},
   "source": [
    "los datos faltantes en son 44 en las columnas BMI y BP"
   ]
  },
  {
   "cell_type": "code",
   "execution_count": 5,
   "id": "826948b0-74e5-4edc-9380-ddddd4a0cbad",
   "metadata": {},
   "outputs": [
    {
     "data": {
      "text/plain": [
       "age        0\n",
       "sex        0\n",
       "bmi       44\n",
       "bp        44\n",
       "s1         0\n",
       "s2         0\n",
       "s3         0\n",
       "s4         0\n",
       "s5         0\n",
       "s6         0\n",
       "target     0\n",
       "dtype: int64"
      ]
     },
     "execution_count": 5,
     "metadata": {},
     "output_type": "execute_result"
    }
   ],
   "source": [
    "data.isnull().sum()"
   ]
  },
  {
   "cell_type": "markdown",
   "id": "08aedf31-efe1-4112-9f98-1bdf2f42ec04",
   "metadata": {},
   "source": [
    "### 2. Utiliza imputación simple (media) para llenar los valores faltantes de la columna 'bmi'."
   ]
  },
  {
   "cell_type": "code",
   "execution_count": 14,
   "id": "16b6eeaa-6901-4216-a6d2-f13f228687d0",
   "metadata": {},
   "outputs": [],
   "source": [
    "imputer = SimpleImputer(strategy='mean')\n",
    "data[['bmi']] = imputer.fit_transform(data[['bmi']])"
   ]
  },
  {
   "cell_type": "markdown",
   "id": "2b99cbfe-4790-4db4-a817-61228a201320",
   "metadata": {},
   "source": [
    "### 3. Utiliza KNNImputer para imputar valores en las columnas 'bmi' y 'bp'. Compara los resultados con los de la imputación simple."
   ]
  },
  {
   "cell_type": "code",
   "execution_count": 17,
   "id": "23b0d053-f30a-46a5-b640-c80153acd80a",
   "metadata": {},
   "outputs": [
    {
     "name": "stdout",
     "output_type": "stream",
     "text": [
      "imputacion simple - promedio BMI -0.0\n",
      "imputacion KNN - promedio BMI -0.0\n"
     ]
    }
   ],
   "source": [
    "#copia del data set original\n",
    "data_knn = data.copy()\n",
    "#crear imputador\n",
    "knn_imputer = KNNImputer(n_neighbors=5)\n",
    "#aplicar imputacion solo en bmi y bp\n",
    "data_knn[['bkmi', 'bp']] = knn_imputer.fit_transform(data_knn[['bmi', 'bp']])\n",
    "#comparar valores\n",
    "print(\"imputacion simple - promedio BMI\", round(data['bmi'].mean(), 3))\n",
    "print(\"imputacion KNN - promedio BMI\", round(data_knn['bmi'].mean(), 3))"
   ]
  },
  {
   "cell_type": "markdown",
   "id": "9b3b6f25-1965-44cf-ab21-4fc94fae9597",
   "metadata": {},
   "source": [
    "### 4. Genera un histograma comparando los datos antes y después de la imputación en la columna 'bmi'."
   ]
  },
  {
   "cell_type": "code",
   "execution_count": 19,
   "id": "7a7485b3-eb4b-4487-aa04-df235c17bda7",
   "metadata": {},
   "outputs": [
    {
     "data": {
      "text/plain": [
       "<function matplotlib.pyplot.show(close=None, block=None)>"
      ]
     },
     "execution_count": 19,
     "metadata": {},
     "output_type": "execute_result"
    },
    {
     "data": {
      "image/png": "[encoded data removed]",
      "text/plain": [
       "<Figure size 1000x500 with 1 Axes>"
      ]
     },
     "metadata": {},
     "output_type": "display_data"
    }
   ],
   "source": [
    "plt.figure(figsize=(10,5))\n",
    "plt.hist(data['bmi'], bins=20, alpha=0.5, label='Simpleimputer')\n",
    "plt.hist(data_knn['bmi'], bins=20, alpha=0.5, label='KNNimputer')\n",
    "plt.title('Comparacion de imputacionen columna bmi')\n",
    "plt.xlabel('bmi')\n",
    "plt.ylabel('Frecuencia')\n",
    "plt.legend()\n",
    "plt.show"
   ]
  }
 ],
 "metadata": {
  "kernelspec": {
   "display_name": "venv",
   "language": "python",
   "name": "python3"
  },
  "language_info": {
   "codemirror_mode": {
    "name": "ipython",
    "version": 3
   },
   "file_extension": ".py",
   "mimetype": "text/x-python",
   "name": "python",
   "nbconvert_exporter": "python",
   "pygments_lexer": "ipython3",
   "version": "3.13.5"
  }
 },
 "nbformat": 4,
 "nbformat_minor": 5
}
